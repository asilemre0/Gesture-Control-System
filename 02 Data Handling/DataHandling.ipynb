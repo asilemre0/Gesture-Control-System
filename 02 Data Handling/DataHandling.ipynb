{
  "nbformat": 4,
  "nbformat_minor": 0,
  "metadata": {
    "colab": {
      "provenance": [],
      "toc_visible": true,
      "mount_file_id": "1coLkDZJB1QcA_70Dgg9KfxNG2byFUHc1",
      "authorship_tag": "ABX9TyOxfwiM2IWDgWPjtHDQ0CAL",
      "include_colab_link": true
    },
    "kernelspec": {
      "name": "python3",
      "display_name": "Python 3"
    },
    "language_info": {
      "name": "python"
    }
  },
  "cells": [
    {
      "cell_type": "markdown",
      "metadata": {
        "id": "view-in-github",
        "colab_type": "text"
      },
      "source": [
        "<a href=\"https://colab.research.google.com/github/vivek09thakur/GSI/blob/main/02%20Data%20Handling/DataHandling.ipynb\" target=\"_parent\"><img src=\"https://colab.research.google.com/assets/colab-badge.svg\" alt=\"Open In Colab\"/></a>"
      ]
    },
    {
      "cell_type": "markdown",
      "source": [
        "# Data Handling\n",
        "\n",
        "Lets start with data handling ,  Data handling is the process of ensuring that research data is stored, archived or disposed off in a safe and secure manner during and after the conclusion of a research project.\n",
        "\n",
        "* Introduction\n",
        "\n",
        "*   Data Types in depth\n",
        "\n",
        "    - Numbers\n",
        "    - Strings\n",
        "    - List and Tuples\n",
        "    - Dictionary\n",
        "\n",
        "*   Mutable and Immutable Types\n",
        "    - Variables Literals\n",
        "*   Operators\n",
        "    - Arithmetic Operators\n",
        "    - Relational Operators\n",
        "    - Logical Operators\n",
        "    - Operators Precedence\n",
        "*   Expression\n",
        "    - Evaluating Expression\n",
        "    - Type casting\n",
        "*   Working With Math Module\n",
        "*   Debugging\n",
        "\n"
      ],
      "metadata": {
        "id": "_TLyDDefqCdY"
      }
    },
    {
      "cell_type": "markdown",
      "source": [
        "# 1. Data Types\n",
        "Data types can be of many types e.g , *characters , integer , real , string etc.* Anything enclosed in quotes represents string data in python. Number without fractions represents integer data. Number with fractions represents real data and *True* and *False* represents Boolean data\n",
        "\n",
        "Python offers following built-in core data types :\n",
        "\n",
        "- Numbers\n",
        "- String\n",
        "- List\n",
        "- Tuple\n",
        "- Dictionary"
      ],
      "metadata": {
        "id": "7vPxH6GGb_qu"
      }
    },
    {
      "cell_type": "markdown",
      "source": [
        "### 1.) Number\n",
        "Number data types is used to store numeric values in Python. The Numbers in Python have following core data types :\n",
        "\n",
        "*   Integers : -> Integer ( signed ) -> Boolean\n",
        "*   Floating-point Number\n",
        "*   Complex Numbers\n",
        "\n",
        "\n",
        "\n"
      ],
      "metadata": {
        "id": "DCrD74y0d5in"
      }
    },
    {
      "cell_type": "markdown",
      "source": [
        "\n",
        "\n",
        "1.   **Integers**\n",
        "\n",
        "Integers are the whole numbers such as 5,39,1917,0 etc. They have no fractional part. Integers can be either positive or negative with no decimal values.\n",
        "\n",
        "*   *Integers ( signed ) :*\n",
        "It is the the normal integers representation of whole numbers\n",
        "> Integers in python 3 can be of any length , It is only limited by the memory available.\n",
        "*   *Booleans :* These represents the truth values of `True` and `False`. These are the sub types of plain integers , and Boolean values `True` and `False` Behave like `1` and `0`.\n",
        "\n",
        "\n",
        "\n",
        "\n",
        "\n"
      ],
      "metadata": {
        "id": "4Y4BrcHdgJ3A"
      }
    },
    {
      "cell_type": "code",
      "source": [
        "bool(1) # This will give the truth value of True"
      ],
      "metadata": {
        "colab": {
          "base_uri": "https://localhost:8080/"
        },
        "id": "T9236r6Njw8o",
        "outputId": "1c67610a-1b78-49a1-dcc5-41453be3fe4c"
      },
      "execution_count": null,
      "outputs": [
        {
          "output_type": "execute_result",
          "data": {
            "text/plain": [
              "True"
            ]
          },
          "metadata": {},
          "execution_count": 2
        }
      ]
    },
    {
      "cell_type": "code",
      "source": [
        "bool(0) # This will give the truth value of False"
      ],
      "metadata": {
        "colab": {
          "base_uri": "https://localhost:8080/"
        },
        "id": "bmaz-zqHkKXt",
        "outputId": "dcd7bdc7-5f76-4f2a-8dbf-7a5c84a855a1"
      },
      "execution_count": null,
      "outputs": [
        {
          "output_type": "execute_result",
          "data": {
            "text/plain": [
              "False"
            ]
          },
          "metadata": {},
          "execution_count": 3
        }
      ]
    },
    {
      "cell_type": "markdown",
      "source": [
        "### 2.) Floating Point Numbers\n",
        "A number having fractional part is a floating-point numbers. For example,3.14159 is a floating point number. The decimal point signals that is a floating point number not an integer."
      ],
      "metadata": {
        "id": "pFIeeMELkEbl"
      }
    },
    {
      "cell_type": "code",
      "source": [
        "print(type(12))"
      ],
      "metadata": {
        "colab": {
          "base_uri": "https://localhost:8080/"
        },
        "id": "v-5Nlxddkc-N",
        "outputId": "fe9c8a52-7a00-486c-c376-56fbb37e5350"
      },
      "execution_count": null,
      "outputs": [
        {
          "output_type": "stream",
          "name": "stdout",
          "text": [
            "<class 'int'>\n"
          ]
        }
      ]
    },
    {
      "cell_type": "code",
      "source": [
        "print(type(12.0))"
      ],
      "metadata": {
        "colab": {
          "base_uri": "https://localhost:8080/"
        },
        "id": "wbVkKzE3l7JZ",
        "outputId": "41a926f0-ef9d-48cb-8575-a7fd1c424c19"
      },
      "execution_count": null,
      "outputs": [
        {
          "output_type": "stream",
          "name": "stdout",
          "text": [
            "<class 'float'>\n"
          ]
        }
      ]
    },
    {
      "cell_type": "markdown",
      "source": [
        "\n",
        "\n",
        "1.   **Fractional Form** e.g. , 3.14, 0.000005\n",
        "2.   **Exponent Form** e.g. , 3.50075E03 , 0.5E-04\n",
        "\n"
      ],
      "metadata": {
        "id": "Z2BnPVlLmAYY"
      }
    },
    {
      "cell_type": "code",
      "source": [],
      "metadata": {
        "id": "EBWAVQqgmfB6"
      },
      "execution_count": null,
      "outputs": []
    }
  ]
}