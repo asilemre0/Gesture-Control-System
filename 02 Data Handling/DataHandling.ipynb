{
  "nbformat": 4,
  "nbformat_minor": 0,
  "metadata": {
    "colab": {
      "provenance": [],
      "toc_visible": true,
      "mount_file_id": "1coLkDZJB1QcA_70Dgg9KfxNG2byFUHc1",
      "authorship_tag": "ABX9TyOJObbvamYPzHJymxV0zSDI",
      "include_colab_link": true
    },
    "kernelspec": {
      "name": "python3",
      "display_name": "Python 3"
    },
    "language_info": {
      "name": "python"
    }
  },
  "cells": [
    {
      "cell_type": "markdown",
      "metadata": {
        "id": "view-in-github",
        "colab_type": "text"
      },
      "source": [
        "<a href=\"https://colab.research.google.com/github/vivek09thakur/GSI/blob/main/02%20Data%20Handling/DataHandling.ipynb\" target=\"_parent\"><img src=\"https://colab.research.google.com/assets/colab-badge.svg\" alt=\"Open In Colab\"/></a>"
      ]
    },
    {
      "cell_type": "markdown",
      "source": [
        "# Data Handling\n",
        "\n",
        "Lets start with data handling ,  Data handling is the process of ensuring that research data is stored, archived or disposed off in a safe and secure manner during and after the conclusion of a research project.\n",
        "\n",
        "* Introduction\n",
        "\n",
        "*   Data Types in depth\n",
        "\n",
        "    - Numbers\n",
        "    - Strings\n",
        "    - List and Tuples\n",
        "    - Dictionary\n",
        "\n",
        "*   Mutable and Immutable Types\n",
        "    - Variables Literals\n",
        "*   Operators\n",
        "    - Arithmetic Operators\n",
        "    - Relational Operators\n",
        "    - Logical Operators\n",
        "    - Operators Precedence\n",
        "*   Expression\n",
        "    - Evaluating Expression\n",
        "    - Type casting\n",
        "*   Working With Math Module\n",
        "*   Debugging\n",
        "\n"
      ],
      "metadata": {
        "id": "_TLyDDefqCdY"
      }
    },
    {
      "cell_type": "markdown",
      "source": [
        "# 1. Data Types\n",
        "Data types can be of many types e.g , *characters , integer , real , string etc.* Anything enclosed in quotes represents string data in python. Number without fractions represents integer data. Number with fractions represents real data and *True* and *False* represents Boolean data\n",
        "\n",
        "Python offers following built-in core data types :\n",
        "\n",
        "- Numbers\n",
        "- String\n",
        "- List\n",
        "- Tuple\n",
        "- Dictionary"
      ],
      "metadata": {
        "id": "7vPxH6GGb_qu"
      }
    },
    {
      "cell_type": "markdown",
      "source": [
        "### 1.) Number\n",
        "Number data types is used to store numeric values in Python. The Numbers in Python have following core data types :\n",
        "\n",
        "*   Integers : -> Integer ( signed ) -> Boolean\n",
        "*   Floating-point Number\n",
        "*   Complex Numbers\n",
        "\n",
        "\n",
        "\n"
      ],
      "metadata": {
        "id": "DCrD74y0d5in"
      }
    },
    {
      "cell_type": "markdown",
      "source": [
        "\n",
        "\n",
        "1.   **Integers**\n",
        "\n",
        "Integers are the whole numbers such as 5,39,1917,0 etc. They have no fractional part. Integers can be either positive or negative with no decimal values.\n",
        "\n",
        "*   *Integers ( signed ) :*\n",
        "It is the the normal integers representation of whole numbers\n",
        "> Integers in python 3 can be of any length , It is only limited by the memory available.\n",
        "*   *Booleans :* These represents the truth values of `True` and `False`. These are the sub types of plain integers , and Boolean values `True` and `False` Behave like `1` and `0`.\n",
        "\n",
        "\n",
        "\n",
        "\n",
        "\n"
      ],
      "metadata": {
        "id": "4Y4BrcHdgJ3A"
      }
    },
    {
      "cell_type": "code",
      "source": [
        "bool(1) # This will give the truth value of True"
      ],
      "metadata": {
        "colab": {
          "base_uri": "https://localhost:8080/"
        },
        "id": "T9236r6Njw8o",
        "outputId": "1c67610a-1b78-49a1-dcc5-41453be3fe4c"
      },
      "execution_count": null,
      "outputs": [
        {
          "output_type": "execute_result",
          "data": {
            "text/plain": [
              "True"
            ]
          },
          "metadata": {},
          "execution_count": 2
        }
      ]
    },
    {
      "cell_type": "code",
      "source": [
        "bool(0) # This will give the truth value of False"
      ],
      "metadata": {
        "colab": {
          "base_uri": "https://localhost:8080/"
        },
        "id": "bmaz-zqHkKXt",
        "outputId": "dcd7bdc7-5f76-4f2a-8dbf-7a5c84a855a1"
      },
      "execution_count": null,
      "outputs": [
        {
          "output_type": "execute_result",
          "data": {
            "text/plain": [
              "False"
            ]
          },
          "metadata": {},
          "execution_count": 3
        }
      ]
    },
    {
      "cell_type": "markdown",
      "source": [
        "### 2.) Floating Point Numbers\n",
        "A number having fractional part is a floating-point numbers. For example,3.14159 is a floating point number. The decimal point signals that is a floating point number not an integer."
      ],
      "metadata": {
        "id": "pFIeeMELkEbl"
      }
    },
    {
      "cell_type": "code",
      "source": [
        "print(type(12))"
      ],
      "metadata": {
        "colab": {
          "base_uri": "https://localhost:8080/"
        },
        "id": "v-5Nlxddkc-N",
        "outputId": "fe9c8a52-7a00-486c-c376-56fbb37e5350"
      },
      "execution_count": null,
      "outputs": [
        {
          "output_type": "stream",
          "name": "stdout",
          "text": [
            "<class 'int'>\n"
          ]
        }
      ]
    },
    {
      "cell_type": "code",
      "source": [
        "print(type(12.0))"
      ],
      "metadata": {
        "colab": {
          "base_uri": "https://localhost:8080/"
        },
        "id": "wbVkKzE3l7JZ",
        "outputId": "41a926f0-ef9d-48cb-8575-a7fd1c424c19"
      },
      "execution_count": null,
      "outputs": [
        {
          "output_type": "stream",
          "name": "stdout",
          "text": [
            "<class 'float'>\n"
          ]
        }
      ]
    },
    {
      "cell_type": "markdown",
      "source": [
        "\n",
        "\n",
        "1.   **Fractional Form** e.g. , 3.14, 0.000005\n",
        "2.   **Exponent Form** e.g. , 3.50075E03 , 0.5E-04\n",
        "\n"
      ],
      "metadata": {
        "id": "Z2BnPVlLmAYY"
      }
    },
    {
      "cell_type": "code",
      "source": [
        "print(type(3.50075E03))"
      ],
      "metadata": {
        "id": "EBWAVQqgmfB6",
        "colab": {
          "base_uri": "https://localhost:8080/"
        },
        "outputId": "01fefb5e-a6e3-48d2-f8df-1b19cab13846"
      },
      "execution_count": null,
      "outputs": [
        {
          "output_type": "stream",
          "name": "stdout",
          "text": [
            "<class 'float'>\n"
          ]
        }
      ]
    },
    {
      "cell_type": "markdown",
      "source": [
        "### 3.) Strings\n",
        "A string data type lets you hold the string data , i.e., any number of a valid character into set of quotation marks.\n",
        "\n",
        "> Or in Python3 all strings are the sequences of *pure Unicode characters*.\n"
      ],
      "metadata": {
        "id": "5myRnjkgC0cE"
      }
    },
    {
      "cell_type": "code",
      "source": [
        "# string as a sequence of character\n",
        "name = 'vivek'\n",
        "print(name)\n",
        "print(name[0])\n",
        "print(name[1])\n",
        "print(name[2])\n",
        "print(name[3])\n",
        "print(name[4un])"
      ],
      "metadata": {
        "colab": {
          "base_uri": "https://localhost:8080/"
        },
        "id": "DdvGpgwqEAPV",
        "outputId": "075a9914-8676-485c-85ce-267ae1f84851"
      },
      "execution_count": null,
      "outputs": [
        {
          "output_type": "stream",
          "name": "stdout",
          "text": [
            "vivek\n",
            "v\n",
            "i\n",
            "v\n",
            "e\n",
            "k\n"
          ]
        }
      ]
    },
    {
      "cell_type": "markdown",
      "source": [
        "> Hence from above example , we can conclude  that a python string is nothing more than the sequence of multiple characters and each characters using their **Index** value."
      ],
      "metadata": {
        "id": "3YLJ4D0NEept"
      }
    },
    {
      "cell_type": "code",
      "source": [
        "# say subject is s string\n",
        "subject = 'COMPUTER'\n",
        "print(subject[0])"
      ],
      "metadata": {
        "colab": {
          "base_uri": "https://localhost:8080/"
        },
        "id": "f3t9o1j8FCNF",
        "outputId": "583c3b58-8338-4680-f0ab-63552bfda1e4"
      },
      "execution_count": null,
      "outputs": [
        {
          "output_type": "stream",
          "name": "stdout",
          "text": [
            "C\n"
          ]
        }
      ]
    },
    {
      "cell_type": "code",
      "source": [
        "print(subject[3])"
      ],
      "metadata": {
        "colab": {
          "base_uri": "https://localhost:8080/"
        },
        "id": "f5cYerEvFRIB",
        "outputId": "bd297e8f-53e2-4ca5-bdc2-cdcc3afa3244"
      },
      "execution_count": null,
      "outputs": [
        {
          "output_type": "stream",
          "name": "stdout",
          "text": [
            "P\n"
          ]
        }
      ]
    },
    {
      "cell_type": "markdown",
      "source": [
        "> Thus we can access any character using `<string-name>[index_num]`"
      ],
      "metadata": {
        "id": "uzQuTIRaF1m-"
      }
    },
    {
      "cell_type": "markdown",
      "source": [
        "**len(< string >)** : Length of any string is equals to the sum of all characters present in  it. We use `len()` to determine the length of a string. Like\n"
      ],
      "metadata": {
        "id": "MBSthRQAFXfi"
      }
    },
    {
      "cell_type": "code",
      "source": [
        "len(subject)"
      ],
      "metadata": {
        "colab": {
          "base_uri": "https://localhost:8080/"
        },
        "id": "OAEP73_kG89O",
        "outputId": "d8c8020b-fe18-4a14-b8da-868e03826bf7"
      },
      "execution_count": null,
      "outputs": [
        {
          "output_type": "execute_result",
          "data": {
            "text/plain": [
              "8"
            ]
          },
          "metadata": {},
          "execution_count": 7
        }
      ]
    },
    {
      "cell_type": "code",
      "source": [
        "len(name)"
      ],
      "metadata": {
        "colab": {
          "base_uri": "https://localhost:8080/"
        },
        "id": "WsRhkEMBHTf9",
        "outputId": "6e0c2514-b0f7-4f96-e91b-bbc750b7749b"
      },
      "execution_count": null,
      "outputs": [
        {
          "output_type": "execute_result",
          "data": {
            "text/plain": [
              "5"
            ]
          },
          "metadata": {},
          "execution_count": 8
        }
      ]
    },
    {
      "cell_type": "markdown",
      "source": [
        "> ❗ Individual letters (**item assignment**)  of a string in a place by assignments because **strings are immutable and** hence **items assignments is not supported**, i.e,"
      ],
      "metadata": {
        "id": "ywxrtIzHHnZ-"
      }
    },
    {
      "cell_type": "code",
      "source": [
        "name = 'hello'\n",
        "name[0]='s'"
      ],
      "metadata": {
        "colab": {
          "base_uri": "https://localhost:8080/",
          "height": 182
        },
        "id": "UXOjY7ULIUVA",
        "outputId": "4734601b-fcc3-4dc8-8e73-b8ae5adbf9bd"
      },
      "execution_count": null,
      "outputs": [
        {
          "output_type": "error",
          "ename": "TypeError",
          "evalue": "ignored",
          "traceback": [
            "\u001b[0;31m---------------------------------------------------------------------------\u001b[0m",
            "\u001b[0;31mTypeError\u001b[0m                                 Traceback (most recent call last)",
            "\u001b[0;32m<ipython-input-9-01985df82f07>\u001b[0m in \u001b[0;36m<cell line: 2>\u001b[0;34m()\u001b[0m\n\u001b[1;32m      1\u001b[0m \u001b[0mname\u001b[0m \u001b[0;34m=\u001b[0m \u001b[0;34m'hello'\u001b[0m\u001b[0;34m\u001b[0m\u001b[0;34m\u001b[0m\u001b[0m\n\u001b[0;32m----> 2\u001b[0;31m \u001b[0mname\u001b[0m\u001b[0;34m[\u001b[0m\u001b[0;36m0\u001b[0m\u001b[0;34m]\u001b[0m\u001b[0;34m=\u001b[0m\u001b[0;34m's'\u001b[0m\u001b[0;34m\u001b[0m\u001b[0;34m\u001b[0m\u001b[0m\n\u001b[0m",
            "\u001b[0;31mTypeError\u001b[0m: 'str' object does not support item assignment"
          ]
        }
      ]
    },
    {
      "cell_type": "markdown",
      "source": [
        "> > But we can assign string to another string"
      ],
      "metadata": {
        "id": "yWm0zzPKIqI6"
      }
    },
    {
      "cell_type": "code",
      "source": [
        "name = 'hello'\n",
        "name ='new'\n",
        "print(name)"
      ],
      "metadata": {
        "colab": {
          "base_uri": "https://localhost:8080/"
        },
        "id": "R9UZTginIrwu",
        "outputId": "41d3a6c3-0403-4ad6-a065-31132ace7e5f"
      },
      "execution_count": null,
      "outputs": [
        {
          "output_type": "stream",
          "name": "stdout",
          "text": [
            "new\n"
          ]
        }
      ]
    },
    {
      "cell_type": "markdown",
      "source": [
        "### 4.) List and Tuples\n",
        "\n",
        "They are known as compound data type , the only difference between them is that the list can be modified and changed but on the other hand tuples cannot be changed ( *immutable* ).\n",
        "\n"
      ],
      "metadata": {
        "id": "QQKY4y4CI2WK"
      }
    },
    {
      "cell_type": "markdown",
      "source": [
        "- ####  List\n",
        "\n",
        "List in python3 represents a list of comma-separated values of any *datatype* between square brackets. e.g., following example of list are :\n",
        "\n"
      ],
      "metadata": {
        "id": "PyHWS8mZVOsL"
      }
    },
    {
      "cell_type": "code",
      "source": [
        "list_1 = [1,2,3,4,5] # list of integer\n",
        "list_2 = [1.2,2.3,3.4,5.6] # list of floating point number\n",
        "list_3 = ['a','b','c','d'] # list of strings\n",
        "\n",
        "print(type(list_1))"
      ],
      "metadata": {
        "id": "cHylZjtrJCjp",
        "colab": {
          "base_uri": "https://localhost:8080/"
        },
        "outputId": "d6024bde-91a0-498b-e401-e42862460129"
      },
      "execution_count": null,
      "outputs": [
        {
          "output_type": "stream",
          "name": "stdout",
          "text": [
            "<class 'list'>\n"
          ]
        }
      ]
    },
    {
      "cell_type": "code",
      "source": [
        "# accessing a single element of a list\n",
        "print(list_1[0])"
      ],
      "metadata": {
        "colab": {
          "base_uri": "https://localhost:8080/"
        },
        "id": "gkF8ZCm6VVRV",
        "outputId": "53719bce-6a4a-4c84-bd21-86734d303e0b"
      },
      "execution_count": null,
      "outputs": [
        {
          "output_type": "stream",
          "name": "stdout",
          "text": [
            "1\n"
          ]
        }
      ]
    },
    {
      "cell_type": "code",
      "source": [
        "# modifying a single element of a list\n",
        "list_1[0]=99\n",
        "print(list_1)"
      ],
      "metadata": {
        "colab": {
          "base_uri": "https://localhost:8080/"
        },
        "id": "m_I6yrwdVvjv",
        "outputId": "670f7fc8-cf10-476d-ba88-b5013de0a345"
      },
      "execution_count": null,
      "outputs": [
        {
          "output_type": "stream",
          "name": "stdout",
          "text": [
            "[99, 2, 3, 4, 5]\n"
          ]
        }
      ]
    },
    {
      "cell_type": "markdown",
      "source": [
        "- #### Tuple\n",
        "Tuples are similary to list but the only difference is that they are immutable data types and it starts with small brackets `(` and ends with `)` also. Here are the example of tuples :"
      ],
      "metadata": {
        "id": "XN7CyBi0VQjR"
      }
    },
    {
      "cell_type": "code",
      "source": [
        "tupA = (1,2,3,4,5)\n",
        "tupB = (1.2,2.3,3.4,4.5,5.6)\n",
        "tupC = ('vivek','sriju','rahul','sairaj')"
      ],
      "metadata": {
        "id": "7Np15c7cW5Zx"
      },
      "execution_count": null,
      "outputs": []
    },
    {
      "cell_type": "code",
      "source": [
        "# Acessing a single element of tuple\n",
        "print(tupA[1])\n"
      ],
      "metadata": {
        "colab": {
          "base_uri": "https://localhost:8080/"
        },
        "id": "huhvRQYugVLJ",
        "outputId": "2a35fb5d-a94e-4016-ce6f-f9a8d595e9a9"
      },
      "execution_count": null,
      "outputs": [
        {
          "output_type": "stream",
          "name": "stdout",
          "text": [
            "2\n"
          ]
        }
      ]
    },
    {
      "cell_type": "code",
      "source": [
        "print(tupC[1])"
      ],
      "metadata": {
        "id": "oyQSbwiYgqy9",
        "colab": {
          "base_uri": "https://localhost:8080/"
        },
        "outputId": "2ec756a5-331a-40f0-eaf0-897a4b9521eb"
      },
      "execution_count": null,
      "outputs": [
        {
          "output_type": "stream",
          "name": "stdout",
          "text": [
            "sriju\n"
          ]
        }
      ]
    },
    {
      "cell_type": "markdown",
      "source": [
        "### 5.) Dictionary\n",
        "Dictionary data type is an unique data type in python , It is a comma seperated `key:value` pairs within `{}`, with the requirement that within a dictionary **No pairs can be same**  *(i.e., they must be unique)*.\n",
        "\n",
        "Example :"
      ],
      "metadata": {
        "id": "4CyreD_JiZVn"
      }
    },
    {
      "cell_type": "code",
      "source": [
        "example_dick = {\n",
        "    'a':2,\n",
        "    'b':3,\n",
        "    'c':4,\n",
        "    'd':5,\n",
        "    'e':6\n",
        "}\n",
        "print(type(example_dick))"
      ],
      "metadata": {
        "id": "rZyrrm0NiiIm",
        "colab": {
          "base_uri": "https://localhost:8080/"
        },
        "outputId": "af3e1ba4-a10e-4e1b-9558-5f776a6810c4"
      },
      "execution_count": 2,
      "outputs": [
        {
          "output_type": "stream",
          "name": "stdout",
          "text": [
            "<class 'dict'>\n"
          ]
        }
      ]
    },
    {
      "cell_type": "markdown",
      "source": [
        "**Accessing value of a single element of a dictionary**\n",
        "\n",
        "> In dictionary we don't have any index value but we can access through its `key`."
      ],
      "metadata": {
        "id": "tDIlqm07PsrA"
      }
    },
    {
      "cell_type": "code",
      "source": [
        "# like this\n",
        "print(example_dick['a'])\n",
        "\n",
        "# lets print its type\n",
        "print(type(example_dick['b']))\n",
        "\n",
        "# assigns a value to variable\n",
        "var_a = example_dick['e']\n",
        "print(var_a)"
      ],
      "metadata": {
        "colab": {
          "base_uri": "https://localhost:8080/"
        },
        "id": "MivWPYyvQD30",
        "outputId": "eefc9f89-3b44-4e67-eb21-8ff8b41a5356"
      },
      "execution_count": 5,
      "outputs": [
        {
          "output_type": "stream",
          "name": "stdout",
          "text": [
            "2\n",
            "<class 'int'>\n",
            "6\n"
          ]
        }
      ]
    },
    {
      "cell_type": "markdown",
      "source": [
        "# Mutable and Immuatble types\n",
        "\n"
      ],
      "metadata": {
        "id": "z7FaZTThRinw"
      }
    }
  ]
}